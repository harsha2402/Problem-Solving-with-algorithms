{
 "cells": [
  {
   "cell_type": "markdown",
   "metadata": {},
   "source": [
    "Problem: Find the local minima or local maxima whichever comes first in a given list. For example in a list [4, 5, 6, 4, 3, 2, 8]\n",
    "local optima would be 6 that is the local maxima of the list, where as if the list was to be [4, 3, 1, 5, 6] then 1 would have been the\n",
    "local minima. \n",
    "Constraint: the time complexity has to be O(log n). \n",
    "Tip: Its very easy to do it in the O(n) complexity. Basically catch the change in order (decrease to increasing or vice versa). "
   ]
  },
  {
   "cell_type": "code",
   "execution_count": null,
   "metadata": {
    "collapsed": true
   },
   "outputs": [],
   "source": [
    "#function to find the index of local maxima in the O(log n) time. \n",
    "def maximal(list1):\n",
    "  n = len(list1)\n",
    "  l, r = 0, n-1\n",
    "  while l <= r:\n",
    "    mid = l + (r-l)//2\n",
    "    #l>mid<r\n",
    "    if list1[mid-1] > list1[mid]:\n",
    "      r = mid -1\n",
    "    elif list1[mid+1] > list1[mid]:\n",
    "      l = mid +1\n",
    "    \n",
    "    if l ==r:\n",
    "      mid = l\n",
    "      break\n",
    "    \n",
    "  return mid\n"
   ]
  },
  {
   "cell_type": "code",
   "execution_count": null,
   "metadata": {
    "collapsed": true
   },
   "outputs": [],
   "source": [
    "#function to find the index of local minima in O(log n) time\n",
    "def minimal(list1):\n",
    "  n = len(list1)\n",
    "  l, r = 0, n-1\n",
    "\n",
    "  while l <= r:\n",
    "    mid = l + (r-l)//2\n",
    "    #l<mid>r\n",
    "    if list1[mid-1] < list1[mid]:\n",
    "      r = mid -1\n",
    "    elif list1[mid+1] < list1[mid]:\n",
    "      l = mid +1\n",
    "\n",
    "    if(mid == 0 or list1[mid - 1] < list1[mid] and\n",
    "       mid == n - 1 or list1[mid] > list1[mid + 1]):\n",
    "        print (list1[mid])\n",
    "        return mid\n",
    "  \n",
    "  return None\n"
   ]
  },
  {
   "cell_type": "code",
   "execution_count": null,
   "metadata": {
    "collapsed": true
   },
   "outputs": [],
   "source": [
    "#input an unsorted list and find the local minima and local maxima, Return the index of whichever comes the first,\n",
    "#local minima or maxima. Since, the comparison would be of a constant time O(1). The total complexity would become O(log n).\n",
    "\n",
    "list1 = [1,2,3,4]\n",
    "n = len(list1)\n",
    "\n",
    "# you can also take the list as input with the following loop. \n",
    "# for i in range(n):\n",
    "#   list1.append(int(input()))\n",
    "\n",
    "min1 = minimal(list1)\n",
    "max1 = maximal(list1)\n",
    "print (list1[min(min1, max1)]) #final answer\n"
   ]
  }
 ],
 "metadata": {
  "kernelspec": {
   "display_name": "Python 3",
   "language": "python",
   "name": "python3"
  },
  "language_info": {
   "codemirror_mode": {
    "name": "ipython",
    "version": 3
   },
   "file_extension": ".py",
   "mimetype": "text/x-python",
   "name": "python",
   "nbconvert_exporter": "python",
   "pygments_lexer": "ipython3",
   "version": "3.6.1"
  }
 },
 "nbformat": 4,
 "nbformat_minor": 2
}
