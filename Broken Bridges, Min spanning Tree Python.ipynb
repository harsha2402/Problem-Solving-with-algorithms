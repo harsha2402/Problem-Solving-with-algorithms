{
 "cells": [
  {
   "cell_type": "markdown",
   "metadata": {},
   "source": [
    "Problem: There are N cities in a Country, and each city is connected to one another. Due to harsh weather causing some roads\n",
    "The people still need to travel and the construction company needs to repair the road with minimum cost. You need to ideantify\n",
    "a set of roads such that the cost of involved in repairing the roads in minimized and all the cities are connected to each other\n",
    "either directly or via other cities. \n",
    "\n",
    "Solution: \n",
    "We solve the problem using graphs and the algorithm of Minimum Spanning Tree. \n",
    "1. We start by making a undirected graph using adjacency matrix using the existing roads. \n",
    "2. We change it into a weighted undirected graph, by adding weights to the 0 to the existing weights and use the weights of the repairing roads as min cost. \n",
    "3. We use the mininum spanning tree algorithm on the weighted graph. "
   ]
  },
  {
   "cell_type": "code",
   "execution_count": null,
   "metadata": {
    "collapsed": true
   },
   "outputs": [],
   "source": [
    "#input roads\n",
    "roads = [[1,2],[2,3],[3,4], [1,4]]\n",
    "#input broken roads\n",
    "repair = [[1,2,1], [2,3,2], [1,4,8]]\n",
    "#input total citites\n",
    "n = 4\n",
    "\n",
    "#adjacency matrix\n",
    "matrix = [[-1] *(n) for i in range(n)]\n",
    "\n",
    "#making the adjacency matrix with given existing roads.\n",
    "for i in roads:\n",
    "    matrix[i[0]-1][i[1]-1] = 0\n",
    "    matrix[i[1]-1][i[0]-1] = 0\n",
    "\n",
    "#adjusting the weights of the adjacency matrix with given broken roads and price taken to repair the road.\n",
    "for i in repair:\n",
    "    matrix[i[0]-1][i[1]-1] = i[2]\n",
    "    matrix[i[1]-1][i[0]-1] = i[2]\n",
    "\n",
    "for i in range(n):\n",
    "    print (matrix[i])\n",
    "\n",
    "#temporary function \n",
    "def minKey(key, mstSet):   \n",
    "    # Initilaize min value \n",
    "    min =  float(\"Inf\")\n",
    "    min_index = -1\n",
    "    for v in range(n): \n",
    "        if key[v] < min and mstSet[v] == False: \n",
    "            min = key[v] \n",
    "            min_index = v \n",
    "\n",
    "    return min_index\n",
    "\n",
    "def min_span(matrix, parent, keys):\n",
    "  \n",
    "    setin = [False] * n\n",
    "    temp = \"-\"\n",
    "\n",
    "    for v in range(n):\n",
    "        temp = minKey(keys, setin)\n",
    "        setin[temp] = True\n",
    "\n",
    "        for k in range(n):\n",
    "            if matrix[temp][k] > -1 and setin[k] == False:\n",
    "                keys[k] = matrix[temp][k]\n",
    "\n",
    "        parent.append(temp)\n",
    "\n",
    "    print (parent)\n",
    "    return\n",
    "\n",
    "parent = []\n",
    "keys = [0] + [float('Inf') for i in range(n-1)]\n",
    "min_span(matrix, parent, keys)\n",
    "print (sum(keys))"
   ]
  }
 ],
 "metadata": {
  "kernelspec": {
   "display_name": "Python 3",
   "language": "python",
   "name": "python3"
  },
  "language_info": {
   "codemirror_mode": {
    "name": "ipython",
    "version": 3
   },
   "file_extension": ".py",
   "mimetype": "text/x-python",
   "name": "python",
   "nbconvert_exporter": "python",
   "pygments_lexer": "ipython3",
   "version": "3.6.1"
  }
 },
 "nbformat": 4,
 "nbformat_minor": 2
}
